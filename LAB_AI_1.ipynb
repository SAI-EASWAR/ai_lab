{
 "cells": [
  {
   "cell_type": "code",
   "execution_count": 4,
   "id": "ff585294-5b24-40ee-8e4f-faec9b3685eb",
   "metadata": {},
   "outputs": [
    {
     "name": "stdout",
     "output_type": "stream",
     "text": [
      "version of pandas is 1.25.2\n"
     ]
    }
   ],
   "source": [
    "import numpy as np\n",
    "print(\"version of pandas is\",np.__version__)"
   ]
  },
  {
   "cell_type": "code",
   "execution_count": 26,
   "id": "2f032a59-4a34-4801-b9d6-4f3d88dfed60",
   "metadata": {},
   "outputs": [
    {
     "name": "stdin",
     "output_type": "stream",
     "text": [
      "total number in ur number:  3\n",
      "give me: 1\n",
      "give me: 2\n",
      "give me: 3\n"
     ]
    },
    {
     "name": "stdout",
     "output_type": "stream",
     "text": [
      "[1 2 3]\n",
      "[2]\n",
      "[3 1]\n"
     ]
    }
   ],
   "source": [
    "a = []\n",
    "nums = int(input(\"total number in ur number: \"))\n",
    "for i in range(nums):\n",
    "    x = int(input(\"give me:\"))\n",
    "    a.append(x)\n",
    "np_arr = np.array(a)\n",
    "print(np_arr)\n",
    "even = []\n",
    "odd = []\n",
    "for i in range(nums):\n",
    "    if(np_arr[i-1] % 2 ==0):\n",
    "        even.append(np_arr[i-1])\n",
    "    else:\n",
    "        odd.append(np_arr[i-1])\n",
    "np_even = np.array(even)\n",
    "np_odd  = np.array(odd)\n",
    "print(np_even)\n",
    "print(np_odd)"
   ]
  },
  {
   "cell_type": "code",
   "execution_count": 28,
   "id": "3d1c1034-f58f-412f-99ef-bb6ae94809ed",
   "metadata": {},
   "outputs": [
    {
     "name": "stdout",
     "output_type": "stream",
     "text": [
      "[[ 1  2  3  4  5  6]\n",
      " [ 7  8  9 10 11 12]]\n"
     ]
    }
   ],
   "source": [
    "arr_1d = np.array([1, 2, 3, 4, 5, 6, 7, 8, 9, 10, 11, 12])\n",
    "arr_2d = arr_1d.reshape((2, -1))\n",
    "print(arr_2d)"
   ]
  },
  {
   "cell_type": "code",
   "execution_count": 41,
   "id": "7f72abb0-6908-48ca-a9a6-6fa6af22eb4a",
   "metadata": {},
   "outputs": [
    {
     "name": "stdout",
     "output_type": "stream",
     "text": [
      "[2 6]\n"
     ]
    }
   ],
   "source": [
    "arr1 = np.array([2,3,6,7])\n",
    "arr2 = np.array([5,3,7,9])\n",
    "# def intersection(lst1, lst2):\n",
    " \n",
    "#     # Use of hybrid method\n",
    "#     temp = set(lst2)\n",
    "#     lst3 = [value for value in lst1 if value in temp]\n",
    "#     return lst3\n",
    "\n",
    "# list1  = intersection(arr1,arr2)\n",
    "# print(list1)\n",
    "\n",
    "# x = np.where(arr1 == (list1))\n",
    "# np.delete(arr1,x)\n",
    "# print(x)\n",
    "\n",
    "result = np.setdiff1d(arr1,arr2)\n",
    "print(result)"
   ]
  },
  {
   "cell_type": "code",
   "execution_count": 42,
   "id": "3b1d7b18-c6da-4755-a4ed-629413fade3f",
   "metadata": {},
   "outputs": [
    {
     "name": "stdout",
     "output_type": "stream",
     "text": [
      "(array([], dtype=int64),)\n"
     ]
    }
   ],
   "source": [
    "a = np.array([1, 2, 3, 4, 5, 6])\n",
    "b = np.array([2, 3, 4, 5, 6, 7])\n",
    "\n",
    "positions = np.where(a == b)\n",
    "\n",
    "print(positions)\n"
   ]
  },
  {
   "cell_type": "code",
   "execution_count": null,
   "id": "b5d8cda2-2412-4205-93e7-1fcb0f79efba",
   "metadata": {},
   "outputs": [],
   "source": []
  }
 ],
 "metadata": {
  "kernelspec": {
   "display_name": "Python 3 (ipykernel)",
   "language": "python",
   "name": "python3"
  },
  "language_info": {
   "codemirror_mode": {
    "name": "ipython",
    "version": 3
   },
   "file_extension": ".py",
   "mimetype": "text/x-python",
   "name": "python",
   "nbconvert_exporter": "python",
   "pygments_lexer": "ipython3",
   "version": "3.11.4"
  }
 },
 "nbformat": 4,
 "nbformat_minor": 5
}
